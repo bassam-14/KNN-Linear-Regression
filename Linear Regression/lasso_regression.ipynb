{
 "cells": [
  {
   "cell_type": "code",
   "execution_count": 4,
   "id": "2f62fc60",
   "metadata": {},
   "outputs": [],
   "source": [
    "#library imports\n",
    "import numpy as np\n",
    "import pandas as pd\n",
    "from sklearn.model_selection import train_test_split\n"
   ]
  },
  {
   "cell_type": "code",
   "execution_count": 5,
   "id": "787703a0",
   "metadata": {},
   "outputs": [
    {
     "data": {
      "text/plain": [
       "14448"
      ]
     },
     "execution_count": 5,
     "metadata": {},
     "output_type": "execute_result"
    }
   ],
   "source": [
    "#Load dataset\n",
    "data=pd.read_csv(\"California_Houses.csv\")\n",
    "X = data.drop('Median_House_Value', axis=1)\n",
    "T= data['Median_House_Value']\n",
    "\n",
    "#Split dataset\n",
    "X_train, X_temp, Y_train, Y_temp = train_test_split(\n",
    "    X, T, test_size=0.30, random_state=42\n",
    ")\n",
    "\n",
    "X_test, X_val, Y_test, Y_val = train_test_split(\n",
    "    X_temp, Y_temp, test_size=0.5, random_state=42\n",
    ")\n",
    "len(X_train)"
   ]
  },
  {
   "cell_type": "code",
   "execution_count": 6,
   "id": "58da4c2b",
   "metadata": {},
   "outputs": [
    {
     "name": "stdout",
     "output_type": "stream",
     "text": [
      "Training set: 14448\n",
      "Validation set: 3096\n",
      "Test set: 3096\n",
      "Total: 20640\n"
     ]
    }
   ],
   "source": [
    "print(\"Training set:\", len(X_train))\n",
    "print(\"Validation set:\", len(X_val))\n",
    "print(\"Test set:\", len(X_test))\n",
    "print(\"Total:\", len(X_train) + len(X_val) + len(X_test))"
   ]
  },
  {
   "cell_type": "code",
   "execution_count": null,
   "id": "6259605c",
   "metadata": {},
   "outputs": [
    {
     "ename": "ModuleNotFoundError",
     "evalue": "No module named 'matplotlib'",
     "output_type": "error",
     "traceback": [
      "\u001b[31m---------------------------------------------------------------------------\u001b[39m",
      "\u001b[31mModuleNotFoundError\u001b[39m                       Traceback (most recent call last)",
      "\u001b[36mCell\u001b[39m\u001b[36m \u001b[39m\u001b[32mIn[7]\u001b[39m\u001b[32m, line 5\u001b[39m\n\u001b[32m      3\u001b[39m \u001b[38;5;28;01mfrom\u001b[39;00m\u001b[38;5;250m \u001b[39m\u001b[34;01msklearn\u001b[39;00m\u001b[34;01m.\u001b[39;00m\u001b[34;01mlinear_model\u001b[39;00m\u001b[38;5;250m \u001b[39m\u001b[38;5;28;01mimport\u001b[39;00m Lasso , LassoCV\n\u001b[32m      4\u001b[39m \u001b[38;5;28;01mfrom\u001b[39;00m\u001b[38;5;250m \u001b[39m\u001b[34;01msklearn\u001b[39;00m\u001b[34;01m.\u001b[39;00m\u001b[34;01mmetrics\u001b[39;00m\u001b[38;5;250m \u001b[39m\u001b[38;5;28;01mimport\u001b[39;00m mean_squared_error, mean_absolute_error,r2_score\n\u001b[32m----> \u001b[39m\u001b[32m5\u001b[39m \u001b[38;5;28;01mimport\u001b[39;00m\u001b[38;5;250m \u001b[39m\u001b[34;01mmatplotlib\u001b[39;00m\u001b[34;01m.\u001b[39;00m\u001b[34;01mpyplot\u001b[39;00m\u001b[38;5;250m \u001b[39m\u001b[38;5;28;01mas\u001b[39;00m\u001b[38;5;250m \u001b[39m\u001b[34;01mplt\u001b[39;00m\n\u001b[32m      7\u001b[39m \u001b[38;5;66;03m#Scale needed data sets\u001b[39;00m\n\u001b[32m      8\u001b[39m scaler = StandardScaler()\n",
      "\u001b[31mModuleNotFoundError\u001b[39m: No module named 'matplotlib'"
     ]
    }
   ],
   "source": [
    "#Coordinate Descent\n",
    "from sklearn.preprocessing import StandardScaler\n",
    "from sklearn.linear_model import Lasso , LassoCV\n",
    "from sklearn.metrics import mean_squared_error, mean_absolute_error,r2_score \n",
    "\n",
    "#Scale needed data sets\n",
    "scaler = StandardScaler()\n",
    "X_train_scaled = scaler.fit_transform(X_train)\n",
    "X_val_scaled = scaler.transform(X_val)\n",
    "X_test_scaled = scaler.transform(X_test)\n",
    "\n",
    "#Tune to get best alpha\n",
    "alphas = np.logspace(-4, 1, 50)\n",
    "best_alpha = None\n",
    "best_val_mse = float('inf')\n",
    "val_mse_scores = []  # Store MSE values for plotting\n",
    "\n",
    "for a in alphas:\n",
    "    lasso = Lasso(alpha=a, max_iter=5000, tol=1e-4, fit_intercept=True)\n",
    "    lasso.fit(X_train_scaled, Y_train)\n",
    "    y_val_pred = lasso.predict(X_val_scaled)\n",
    "    val_mse = mean_squared_error(Y_val, y_val_pred)\n",
    "    val_mse_scores.append(val_mse)  # Store MSE for this alpha\n",
    "    \n",
    "    if val_mse < best_val_mse:\n",
    "        best_val_mse = val_mse\n",
    "        best_alpha = a\n",
    "#Train model using best alpha\n",
    "lasso_final = Lasso(alpha=best_alpha, max_iter=5000, tol=1e-4, fit_intercept=False)\n",
    "lasso_final.fit(X_train_scaled, Y_train)\n",
    "\n",
    "#Evaluate on tests set\n",
    "y_test_pred = lasso_final.predict(X_test_scaled)\n",
    "test_mse = mean_squared_error(Y_test, y_test_pred)\n",
    "test_mae = mean_absolute_error(Y_test, y_test_pred)\n",
    "\n",
    "print(\"Final Test MSE:\", test_mse)\n",
    "print(\"Final Test MAE:\", test_mae)\n",
    "\n",
    "\n"
   ]
  },
  {
   "cell_type": "code",
   "execution_count": null,
   "id": "d148763d",
   "metadata": {},
   "outputs": [
    {
     "ename": "ModuleNotFoundError",
     "evalue": "No module named 'matplotlib'",
     "output_type": "error",
     "traceback": [
      "\u001b[31m---------------------------------------------------------------------------\u001b[39m",
      "\u001b[31mModuleNotFoundError\u001b[39m                       Traceback (most recent call last)",
      "\u001b[36mCell\u001b[39m\u001b[36m \u001b[39m\u001b[32mIn[3]\u001b[39m\u001b[32m, line 2\u001b[39m\n\u001b[32m      1\u001b[39m \u001b[38;5;66;03m# Plot alpha vs validation MSE\u001b[39;00m\n\u001b[32m----> \u001b[39m\u001b[32m2\u001b[39m \u001b[38;5;28;01mimport\u001b[39;00m\u001b[38;5;250m \u001b[39m\u001b[34;01mmatplotlib\u001b[39;00m\u001b[34;01m.\u001b[39;00m\u001b[34;01mpyplot\u001b[39;00m\u001b[38;5;250m \u001b[39m\u001b[38;5;28;01mas\u001b[39;00m\u001b[38;5;250m \u001b[39m\u001b[34;01mplt\u001b[39;00m  \n\u001b[32m      4\u001b[39m plt.figure(figsize=(\u001b[32m10\u001b[39m, \u001b[32m6\u001b[39m))\n\u001b[32m      5\u001b[39m plt.semilogx(alphas, val_mse_scores, \u001b[33m'\u001b[39m\u001b[33mb-\u001b[39m\u001b[33m'\u001b[39m, linewidth=\u001b[32m2\u001b[39m, label=\u001b[33m'\u001b[39m\u001b[33mValidation MSE\u001b[39m\u001b[33m'\u001b[39m)\n",
      "\u001b[31mModuleNotFoundError\u001b[39m: No module named 'matplotlib'"
     ]
    }
   ],
   "source": [
    "\n",
    "#Plotting\n",
    "import matplotlib.pyplot as plt\n",
    "\n",
    "plt.figure(figsize=(8, 5))\n",
    "plt.plot(alphas, val_mse_scores, marker='o', linestyle='-', color='blue')\n",
    "plt.xscale('log')  # use log scale for alpha values\n",
    "plt.xlabel(\"Alpha (Regularization Strength)\")\n",
    "plt.ylabel(\"Validation MSE\")\n",
    "plt.title(\"Lasso Coordinate Descent - Alpha vs Validation MSE\")\n",
    "plt.grid(True, linestyle='--', alpha=0.6)\n",
    "plt.tight_layout()\n",
    "plt.show()\n"
   ]
  }
 ],
 "metadata": {
  "kernelspec": {
   "display_name": "myenv",
   "language": "python",
   "name": "python3"
  },
  "language_info": {
   "codemirror_mode": {
    "name": "ipython",
    "version": 3
   },
   "file_extension": ".py",
   "mimetype": "text/x-python",
   "name": "python",
   "nbconvert_exporter": "python",
   "pygments_lexer": "ipython3",
   "version": "3.13.2"
  }
 },
 "nbformat": 4,
 "nbformat_minor": 5
}
