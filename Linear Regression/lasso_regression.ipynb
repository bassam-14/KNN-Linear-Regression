{
 "cells": [
  {
   "cell_type": "code",
   "execution_count": 22,
   "id": "2f62fc60",
   "metadata": {},
   "outputs": [],
   "source": [
    "#library imports\n",
    "import numpy as np\n",
    "import pandas as pd\n",
    "from sklearn.model_selection import train_test_split"
   ]
  },
  {
   "cell_type": "code",
   "execution_count": null,
   "id": "787703a0",
   "metadata": {},
   "outputs": [
    {
     "data": {
      "text/plain": [
       "14448"
      ]
     },
     "execution_count": 23,
     "metadata": {},
     "output_type": "execute_result"
    }
   ],
   "source": [
    "#Load dataset\n",
    "data=pd.read_csv(\"California_Houses.csv\")\n",
    "X = data.drop('Median_House_Value', axis=1)\n",
    "T= data['Median_House_Value']\n",
    "\n",
    "#Split dataset\n",
    "X_train, X_temp, T_train, T_temp = train_test_split(\n",
    "    X, T, test_size=0.30, random_state=42\n",
    ")\n",
    "\n",
    "X_test, X_val, T_test, T_val = train_test_split(\n",
    "    X_temp, T_temp, test_size=0.5, random_state=42\n",
    ")\n",
    "len(X_train)"
   ]
  },
  {
   "cell_type": "code",
   "execution_count": 24,
   "id": "58da4c2b",
   "metadata": {},
   "outputs": [
    {
     "name": "stdout",
     "output_type": "stream",
     "text": [
      "Training set: 14448\n",
      "Validation set: 3096\n",
      "Test set: 3096\n",
      "Total: 20640\n"
     ]
    }
   ],
   "source": [
    "print(\"Training set:\", len(X_train))\n",
    "print(\"Validation set:\", len(X_val))\n",
    "print(\"Test set:\", len(X_test))\n",
    "print(\"Total:\", len(X_train) + len(X_val) + len(X_test))"
   ]
  },
  {
   "cell_type": "code",
   "execution_count": 25,
   "id": "db649674",
   "metadata": {},
   "outputs": [],
   "source": [
    "X_design_train = np.c_[np.ones((X_train.shape[0], 1)), X_train.values]\n",
    "T_train_vec = T_train.values.reshape(-1, 1)\n",
    "XtX=X_design_train.T@X_design_train\n",
    "XtX_inv=np.linalg.inv(XtX)\n",
    "#Calculating weights\n",
    "w=XtX_inv@X_design_train.T@T_train_vec\n"
   ]
  },
  {
   "cell_type": "code",
   "execution_count": null,
   "id": "ced5694b",
   "metadata": {},
   "outputs": [
    {
     "name": "stdout",
     "output_type": "stream",
     "text": [
      "Test MSE: 4907211997.419816\n",
      "Test RMSE: 70051.49532608005\n",
      "Test R²: 0.6233241175910397\n"
     ]
    }
   ],
   "source": [
    "#Testing\n",
    "from sklearn.metrics import mean_squared_error, r2_score\n",
    "X_design_test = np.c_[np.ones((X_test.shape[0], 1)), X_test.values]\n",
    "\n",
    "y_pred_test = X_design_test @ w  \n",
    "y_test_vec = T_test.values.reshape(-1, 1)\n",
    "\n",
    "mse_test = mean_squared_error(y_test_vec, y_pred_test)\n",
    "rmse_test = np.sqrt(mse_test)\n",
    "r2_test = r2_score(y_test_vec, y_pred_test)\n",
    "\n",
    "print(\"Test MSE:\", mse_test)\n",
    "print(\"Test RMSE:\", rmse_test)\n",
    "print(\"Test R²:\", r2_test)\n",
    "\n",
    "\n",
    "\n"
   ]
  },
  {
   "cell_type": "code",
   "execution_count": null,
   "id": "7eeebe33",
   "metadata": {},
   "outputs": [],
   "source": []
  }
 ],
 "metadata": {
  "kernelspec": {
   "display_name": "myenv",
   "language": "python",
   "name": "python3"
  },
  "language_info": {
   "codemirror_mode": {
    "name": "ipython",
    "version": 3
   },
   "file_extension": ".py",
   "mimetype": "text/x-python",
   "name": "python",
   "nbconvert_exporter": "python",
   "pygments_lexer": "ipython3",
   "version": "3.13.2"
  }
 },
 "nbformat": 4,
 "nbformat_minor": 5
}
