{
 "cells": [
  {
   "cell_type": "code",
   "execution_count": 9,
   "id": "2f62fc60",
   "metadata": {},
   "outputs": [],
   "source": [
    "#library imports\n",
    "import numpy as np\n",
    "import pandas as pd\n",
    "from sklearn.model_selection import train_test_split\n"
   ]
  },
  {
   "cell_type": "code",
   "execution_count": 10,
   "id": "787703a0",
   "metadata": {},
   "outputs": [
    {
     "data": {
      "text/plain": [
       "14448"
      ]
     },
     "execution_count": 10,
     "metadata": {},
     "output_type": "execute_result"
    }
   ],
   "source": [
    "#Load dataset\n",
    "data=pd.read_csv(\"California_Houses.csv\")\n",
    "X = data.drop('Median_House_Value', axis=1)\n",
    "T= data['Median_House_Value']\n",
    "\n",
    "#Split dataset\n",
    "X_train, X_temp, Y_train, Y_temp = train_test_split(\n",
    "    X, T, test_size=0.30, random_state=42\n",
    ")\n",
    "\n",
    "X_test, X_val, Y_test, Y_val = train_test_split(\n",
    "    X_temp, Y_temp, test_size=0.5, random_state=42\n",
    ")\n",
    "len(X_train)"
   ]
  },
  {
   "cell_type": "code",
   "execution_count": 11,
   "id": "58da4c2b",
   "metadata": {},
   "outputs": [
    {
     "name": "stdout",
     "output_type": "stream",
     "text": [
      "Training set: 14448\n",
      "Validation set: 3096\n",
      "Test set: 3096\n",
      "Total: 20640\n"
     ]
    }
   ],
   "source": [
    "print(\"Training set:\", len(X_train))\n",
    "print(\"Validation set:\", len(X_val))\n",
    "print(\"Test set:\", len(X_test))\n",
    "print(\"Total:\", len(X_train) + len(X_val) + len(X_test))"
   ]
  },
  {
   "cell_type": "code",
   "execution_count": 15,
   "id": "6259605c",
   "metadata": {},
   "outputs": [
    {
     "name": "stdout",
     "output_type": "stream",
     "text": [
      "Final Test MSE: 48308633688.35334\n",
      "Final Test MAE: 208467.5897173787\n"
     ]
    }
   ],
   "source": [
    "#Coordinate Descent\n",
    "from sklearn.preprocessing import StandardScaler\n",
    "from sklearn.linear_model import Lasso , LassoCV\n",
    "from sklearn.metrics import mean_squared_error, mean_absolute_error,r2_score\n",
    "\n",
    "#Scale needed data sets\n",
    "scaler = StandardScaler()\n",
    "X_train_scaled = scaler.fit_transform(X_train)\n",
    "X_val_scaled = scaler.transform(X_val)\n",
    "X_test_scaled = scaler.transform(X_test)\n",
    "\n",
    "#Tune to get best alpha\n",
    "alphas = np.logspace(-4, 1, 50)\n",
    "best_alpha = None\n",
    "best_val_mse = float('inf')\n",
    "\n",
    "for a in alphas:\n",
    "    lasso = Lasso(alpha=a, max_iter=5000, tol=1e-4, fit_intercept=True)\n",
    "    lasso.fit(X_train_scaled, Y_train)\n",
    "    y_val_pred = lasso.predict(X_val_scaled)\n",
    "    val_mse = mean_squared_error(Y_val, y_val_pred)\n",
    "    \n",
    "    if val_mse < best_val_mse:\n",
    "        best_val_mse = val_mse\n",
    "        best_alpha = a\n",
    "#Train model using best alpha\n",
    "lasso_final = Lasso(alpha=best_alpha, max_iter=5000, tol=1e-4, fit_intercept=False)\n",
    "lasso_final.fit(X_train_scaled, Y_train)\n",
    "\n",
    "#Evaluate on tests set\n",
    "y_test_pred = lasso_final.predict(X_test_scaled)\n",
    "test_mse = mean_squared_error(Y_test, y_test_pred)\n",
    "test_mae = mean_absolute_error(Y_test, y_test_pred)\n",
    "\n",
    "print(\"Final Test MSE:\", test_mse)\n",
    "print(\"Final Test MAE:\", test_mae)\n",
    "\n",
    "\n"
   ]
  },
  {
   "cell_type": "code",
   "execution_count": null,
   "id": "ed3945e5",
   "metadata": {},
   "outputs": [],
   "source": [
    "\n"
   ]
  },
  {
   "cell_type": "code",
   "execution_count": null,
   "id": "1b6226d3",
   "metadata": {},
   "outputs": [],
   "source": [
    "\n"
   ]
  },
  {
   "cell_type": "code",
   "execution_count": null,
   "id": "f151453c",
   "metadata": {},
   "outputs": [],
   "source": [
    "\n"
   ]
  },
  {
   "cell_type": "code",
   "execution_count": null,
   "id": "b5e144b3",
   "metadata": {},
   "outputs": [],
   "source": [
    "\n"
   ]
  },
  {
   "cell_type": "code",
   "execution_count": null,
   "id": "37900dd0",
   "metadata": {},
   "outputs": [],
   "source": [
    "\n"
   ]
  },
  {
   "cell_type": "code",
   "execution_count": null,
   "id": "8f015209",
   "metadata": {},
   "outputs": [],
   "source": [
    "\n"
   ]
  },
  {
   "cell_type": "code",
   "execution_count": null,
   "id": "3533569a",
   "metadata": {},
   "outputs": [],
   "source": [
    "#Coordinate Descent\n"
   ]
  },
  {
   "cell_type": "code",
   "execution_count": null,
   "id": "d4d38b5d",
   "metadata": {},
   "outputs": [],
   "source": []
  },
  {
   "cell_type": "code",
   "execution_count": null,
   "id": "7eeebe33",
   "metadata": {},
   "outputs": [],
   "source": []
  }
 ],
 "metadata": {
  "kernelspec": {
   "display_name": "myenv",
   "language": "python",
   "name": "python3"
  },
  "language_info": {
   "codemirror_mode": {
    "name": "ipython",
    "version": 3
   },
   "file_extension": ".py",
   "mimetype": "text/x-python",
   "name": "python",
   "nbconvert_exporter": "python",
   "pygments_lexer": "ipython3",
   "version": "3.13.2"
  }
 },
 "nbformat": 4,
 "nbformat_minor": 5
}
